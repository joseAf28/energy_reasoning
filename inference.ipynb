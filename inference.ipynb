{
 "cells": [
  {
   "cell_type": "code",
   "execution_count": 9,
   "metadata": {},
   "outputs": [],
   "source": [
    "import torch\n",
    "import numpy as np\n",
    "from tqdm import tqdm \n",
    "import utils\n",
    "import ebm\n",
    "import sudoku_dataset as dataset"
   ]
  },
  {
   "cell_type": "code",
   "execution_count": 3,
   "metadata": {},
   "outputs": [],
   "source": [
    "CONFIG = {\n",
    "    \"device\": \"cuda\" if torch.cuda.is_available() else \"cpu\",\n",
    "    \"model_path\": \"best_ebm.pt\",  # Path to your saved model\n",
    "    \"test_data_path\": \"dataset_test.npy\", # Path to your dataset\n",
    "    \"solver_steps\": 2000,          # More steps for higher quality solutions\n",
    "    \"solver_step_size\": 0.1,\n",
    "}"
   ]
  },
  {
   "cell_type": "code",
   "execution_count": 4,
   "metadata": {},
   "outputs": [],
   "source": [
    "def generate_solution(model, initial_board, puzzle_mask, steps, step_size):\n",
    "    \"\"\"\n",
    "    Uses Langevin dynamics to find a low-energy solution starting from a puzzle.\n",
    "    \"\"\"\n",
    "\n",
    "    x = initial_board.clone().detach().requires_grad_(True)\n",
    "    model.eval()\n",
    "\n",
    "    for i in tqdm(range(steps), desc=\"Solving Puzzle\"):\n",
    "        noise_scale = np.sqrt(step_size) * (1 - i / steps) # Optional: Annealing\n",
    "        \n",
    "        energy = model(x).sum()\n",
    "        grad, = torch.autograd.grad(energy, x)\n",
    "        \n",
    "        # Langevin dynamics update\n",
    "        x.data.add_(-0.5 * step_size * grad) # Gradient descent\n",
    "        x.data.add_(torch.randn_like(x) * noise_scale) # Add noise\n",
    "        \n",
    "        x.data = torch.clamp(x.data, min=0) # Probabilities can't be negative\n",
    "        mask_expanded = puzzle_mask.unsqueeze(1).expand_as(x)\n",
    "        x.data[mask_expanded] = initial_board.data[mask_expanded]\n",
    "        \n",
    "        x_flat = x.view(-1, 9, 81)\n",
    "        x_probs = torch.nn.functional.softmax(x_flat, dim=1)\n",
    "        x.data = x_probs.view_as(x)\n",
    "        \n",
    "    return x.detach()\n"
   ]
  },
  {
   "cell_type": "code",
   "execution_count": 7,
   "metadata": {},
   "outputs": [
    {
     "data": {
      "text/plain": [
       "SudokuEBM(\n",
       "  (net): Sequential(\n",
       "    (0): Conv2d(9, 128, kernel_size=(3, 3), stride=(1, 1), padding=(1, 1))\n",
       "    (1): Softplus(beta=1.0, threshold=20.0)\n",
       "    (2): Conv2d(128, 128, kernel_size=(3, 3), stride=(1, 1), padding=(1, 1))\n",
       "    (3): Softplus(beta=1.0, threshold=20.0)\n",
       "    (4): Conv2d(128, 128, kernel_size=(3, 3), stride=(1, 1), padding=(1, 1))\n",
       "    (5): Softplus(beta=1.0, threshold=20.0)\n",
       "    (6): Flatten(start_dim=1, end_dim=-1)\n",
       "    (7): Linear(in_features=10368, out_features=1, bias=True)\n",
       "  )\n",
       ")"
      ]
     },
     "execution_count": 7,
     "metadata": {},
     "output_type": "execute_result"
    }
   ],
   "source": [
    "\n",
    "device = torch.device(CONFIG[\"device\"])\n",
    "\n",
    "model = ebm.SudokuEBM()\n",
    "model.load_state_dict(torch.load(CONFIG[\"model_path\"], map_location=device))\n",
    "model.to(device)\n",
    "model.eval() # IMPORTANT: Set model to evaluation mode\n",
    "\n"
   ]
  },
  {
   "cell_type": "code",
   "execution_count": 14,
   "metadata": {},
   "outputs": [
    {
     "name": "stdout",
     "output_type": "stream",
     "text": [
      "(5000, 2, 9, 9)\n"
     ]
    }
   ],
   "source": [
    "sudoku_test = dataset.FileDataset(CONFIG[\"test_data_path\"])"
   ]
  },
  {
   "cell_type": "code",
   "execution_count": 21,
   "metadata": {},
   "outputs": [],
   "source": [
    "\n",
    "n_samples = 10\n",
    "\n",
    "puzzles = np.array([sudoku_test[i]['puzzle'] for i in range(n_samples)])\n",
    "solutions = np.array([sudoku_test[i]['solution'] for i in range(n_samples)])\n",
    "\n",
    "puzzle_one_hot = torch.from_numpy(puzzles).float().to(device)\n",
    "solution_one_hot = torch.from_numpy(solutions).float().to(device)\n",
    "\n"
   ]
  },
  {
   "cell_type": "code",
   "execution_count": 23,
   "metadata": {},
   "outputs": [],
   "source": [
    "\n",
    "### prepare initial data for solves\n",
    "puzzle_mask = puzzle_one_hot.sum(dim=1) > 0\n",
    "random_fill = torch.nn.functional.softmax(torch.randn_like(puzzle_one_hot), dim=1)\n",
    "initial_board = torch.where(puzzle_mask.unsqueeze(1), puzzle_one_hot, random_fill)\n",
    "\n"
   ]
  },
  {
   "cell_type": "code",
   "execution_count": 24,
   "metadata": {},
   "outputs": [
    {
     "name": "stderr",
     "output_type": "stream",
     "text": [
      "Solving Puzzle: 100%|██████████| 2000/2000 [00:06<00:00, 311.97it/s]\n"
     ]
    }
   ],
   "source": [
    "solved_one_hot = generate_solution(model, initial_board, puzzle_mask.squeeze(0),\n",
    "                                    CONFIG[\"solver_steps\"], CONFIG[\"solver_step_size\"])"
   ]
  },
  {
   "cell_type": "code",
   "execution_count": 26,
   "metadata": {},
   "outputs": [],
   "source": [
    "\n",
    "solved_board = [utils.convert_to_board(vec) for vec in solved_one_hot]\n",
    "puzzle_board = [utils.convert_to_board(vec) for vec in puzzle_one_hot]\n",
    "solution_board = [utils.convert_to_board(vec) for vec in solution_one_hot]\n",
    "\n",
    "\n"
   ]
  },
  {
   "cell_type": "code",
   "execution_count": 29,
   "metadata": {},
   "outputs": [
    {
     "name": "stdout",
     "output_type": "stream",
     "text": [
      "[[1 1 1 1 1 1 1 1 9]\n",
      " [6 5 1 1 9 1 1 1 8]\n",
      " [8 4 9 7 5 2 3 1 1]\n",
      " [1 1 4 1 8 3 2 1 1]\n",
      " [5 1 2 1 1 6 1 9 1]\n",
      " [9 1 1 1 1 5 1 4 7]\n",
      " [1 3 1 1 1 1 9 1 6]\n",
      " [2 7 6 5 3 1 1 1 1]\n",
      " [1 1 1 1 1 7 5 3 1]]\n"
     ]
    }
   ],
   "source": [
    "print(puzzle_board[0])"
   ]
  },
  {
   "cell_type": "code",
   "execution_count": 27,
   "metadata": {},
   "outputs": [
    {
     "name": "stdout",
     "output_type": "stream",
     "text": [
      "[[7 6 6 6 6 1 6 6 9]\n",
      " [6 5 1 6 9 6 6 6 8]\n",
      " [8 4 9 7 5 2 3 6 1]\n",
      " [6 6 4 6 8 3 2 1 6]\n",
      " [5 6 2 6 6 6 6 9 6]\n",
      " [9 6 6 6 1 5 6 4 7]\n",
      " [6 3 6 6 6 6 9 6 6]\n",
      " [2 7 6 5 3 6 1 6 6]\n",
      " [2 2 6 6 6 7 5 3 6]]\n"
     ]
    }
   ],
   "source": [
    "print(solved_board[0])"
   ]
  },
  {
   "cell_type": "code",
   "execution_count": 28,
   "metadata": {},
   "outputs": [
    {
     "name": "stdout",
     "output_type": "stream",
     "text": [
      "[[3 2 7 8 6 1 4 5 9]\n",
      " [6 5 1 3 9 4 7 2 8]\n",
      " [8 4 9 7 5 2 3 6 1]\n",
      " [7 6 4 9 8 3 2 1 5]\n",
      " [5 1 2 4 7 6 8 9 3]\n",
      " [9 8 3 2 1 5 6 4 7]\n",
      " [4 3 5 1 2 8 9 7 6]\n",
      " [2 7 6 5 3 9 1 8 4]\n",
      " [1 9 8 6 4 7 5 3 2]]\n"
     ]
    }
   ],
   "source": [
    "print(solution_board[0])"
   ]
  },
  {
   "cell_type": "code",
   "execution_count": null,
   "metadata": {},
   "outputs": [],
   "source": []
  }
 ],
 "metadata": {
  "kernelspec": {
   "display_name": "plasmas",
   "language": "python",
   "name": "python3"
  },
  "language_info": {
   "codemirror_mode": {
    "name": "ipython",
    "version": 3
   },
   "file_extension": ".py",
   "mimetype": "text/x-python",
   "name": "python",
   "nbconvert_exporter": "python",
   "pygments_lexer": "ipython3",
   "version": "3.12.11"
  }
 },
 "nbformat": 4,
 "nbformat_minor": 2
}
